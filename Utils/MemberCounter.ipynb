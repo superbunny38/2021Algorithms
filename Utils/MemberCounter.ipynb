{
  "nbformat": 4,
  "nbformat_minor": 0,
  "metadata": {
    "colab": {
      "provenance": [],
      "collapsed_sections": [],
      "authorship_tag": "ABX9TyO1GvsctD9w6t83t/11S/Jx",
      "include_colab_link": true
    },
    "kernelspec": {
      "name": "python3",
      "display_name": "Python 3"
    },
    "language_info": {
      "name": "python"
    }
  },
  "cells": [
    {
      "cell_type": "markdown",
      "metadata": {
        "id": "view-in-github",
        "colab_type": "text"
      },
      "source": [
        "<a href=\"https://colab.research.google.com/github/superbunny38/Algorithms/blob/main/Utils/MemberCounter.ipynb\" target=\"_parent\"><img src=\"https://colab.research.google.com/assets/colab-badge.svg\" alt=\"Open In Colab\"/></a>"
      ]
    },
    {
      "cell_type": "code",
      "source": [
        "%%writefile tmp.txt\n",
        "Chaeeun\n",
        "\n",
        "Ryu kimkim"
      ],
      "metadata": {
        "colab": {
          "base_uri": "https://localhost:8080/"
        },
        "id": "vpnaE-tqQHXO",
        "outputId": "589e974f-657b-41d0-e746-71ec9d88eff0"
      },
      "execution_count": 4,
      "outputs": [
        {
          "output_type": "stream",
          "name": "stdout",
          "text": [
            "Writing tmp.txt\n"
          ]
        }
      ]
    },
    {
      "cell_type": "code",
      "execution_count": 24,
      "metadata": {
        "id": "advwmjeoPL3j"
      },
      "outputs": [],
      "source": [
        "def count_members(file):\n",
        "  with open(file) as f:\n",
        "    count = 0\n",
        "    for line in f.readlines():\n",
        "      if line[0] == '\\n':\n",
        "        continue\n",
        "      else:\n",
        "        count+=1\n",
        "  print(\"number of students:\", count)\n",
        "  return count  "
      ]
    },
    {
      "cell_type": "code",
      "source": [
        "count_members('/content/tmp.txt')"
      ],
      "metadata": {
        "colab": {
          "base_uri": "https://localhost:8080/"
        },
        "id": "cd-DXo4oQGFp",
        "outputId": "d8d5fc28-f48f-41f6-ff89-7178e17e744c"
      },
      "execution_count": 18,
      "outputs": [
        {
          "output_type": "stream",
          "name": "stdout",
          "text": [
            "number of students 2\n"
          ]
        },
        {
          "output_type": "execute_result",
          "data": {
            "text/plain": [
              "2"
            ]
          },
          "metadata": {},
          "execution_count": 18
        }
      ]
    }
  ]
}