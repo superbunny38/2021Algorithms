{
 "cells": [
  {
   "cell_type": "markdown",
   "id": "a7982f00",
   "metadata": {},
   "source": [
    "# 완전 탐색 알고리즘(Brute Force Algorithm)"
   ]
  },
  {
   "cell_type": "markdown",
   "id": "286e76cb",
   "metadata": {},
   "source": [
    "## 1.  개념\n",
    "- Exhaustive Search라고도 한다.\n",
    "- 컴퓨터의 빠른 계산 능력을 이용하여 가능한 경우의 수를 일일이 나열하면서 답을 찾는 방법\n",
    "- 모든 경우의 수를 다 체크해서 정답을 찾는 방법\n",
    "- 이 방식은 절대 답을 못 구하는 경우는 없으므로 나름 강력한 방법\n",
    "- 예를들어 비밀번호가 4자리이고 숫자로만 이루어져 있다면, 0 ~ 9999까지 다 해보면된다.\n",
    "- 단점) 시간이 최대로 들어간다.\n",
    "<br><br><br>"
   ]
  },
  {
   "cell_type": "markdown",
   "id": "299ccee6",
   "metadata": {},
   "source": [
    "## 2. 방법\n",
    "\n",
    "1) 해결하고자 하는 문제의 가능한 경우의 수를 대략적으로 계산한다.<br>\n",
    "2) 가능한 모든 방법을 다 고려한다.<br>\n",
    "    $\\;\\;\\;\\;\\;\\;$  i. 해결하고자 하는 문제의 가능한 경우의 수를 대략적으로 계산한다.<br>\n",
    "    $\\;\\;\\;\\;\\;\\;$ ii. 가능한 모든 방법을 다 고려한다.<br>\n",
    "    $\\;\\;\\;\\;\\;\\;$ iii. 실제 답을 구할 수 있는지 적용한다.\n",
    "\n",
    "\n",
    "3) 실제 답을 구할 수 있는지 적용한다.\n",
    "<br><br><br>\n"
   ]
  },
  {
   "cell_type": "markdown",
   "id": "b7f9aa25",
   "metadata": {},
   "source": [
    "## 3. 완전 탐색 실전 이용 예시"
   ]
  },
  {
   "cell_type": "markdown",
   "id": "ca18884a",
   "metadata": {},
   "source": [
    "#### 1. 입력으로 주어지는 데이터(N)의 크기가 매우 작다. <br>\n",
    "부분집합 문제나, 순열, 조합 같은 문제들은 완전 탐색으로 푼다면 기본적으로 시간 복잡도가 O(2^N)이나, O(N!) 이므로 당연히 N의 크기가 매우 작아야 한다.<br>\n",
    "\n",
    "#### 2.답의 범위가 작고, 임의의 답을 하나 선택했을 때 문제 조건을 만족하는지 역추적할 수 있다. \n",
    "답의 범위가 아주 제한적인 경우에는, 임의로 답을 고정시켜놓고 주어진 조건들이 답에 적합한지 역으로 확인해보는 방법을 이용해볼 수 있다.<br>가능한 답을 모두 확인하는 과정에서 완전 탐색이 이용되는 것이다.\n",
    "<br>\n",
    "문제 예시: https://codeforces.com/problemset/problem/1395/C\n",
    "\n",
    "#### 3. 여러 문제 조건 중 한 조건을 고정시키면 문제 풀이가 간단해진다. \n",
    "문제에서 주어진 조건 중 하나를 고정시켜서 문제가 단순해질 수 있는 경우에, 완전 탐색을 적용하여 문제를 해결할 수 있다. (완전 탐색 + 그리디)\n",
    "<br><br><br>"
   ]
  },
  {
   "cell_type": "markdown",
   "id": "d4d8ee9a",
   "metadata": {},
   "source": [
    "## 4. 완전탐색 알고리즘 적용 종류\n",
    "\n",
    "### 1. 단순 Brute Force\n",
    "- for문과 if문 등으로 모든 case들을 만들어 답을 구하는 방법"
   ]
  },
  {
   "cell_type": "markdown",
   "id": "5c957d54",
   "metadata": {},
   "source": [
    "### 2. 비트마스크\n",
    "- AND, OR, XOR, SHIFT, NOT인 이진수 표현을 자료구조로 사용\n",
    "- 모든 경우의 수가 각각의 원소에 포함되거나 포함되지 않는 두 가지 선택으로 구성되는 경우 용이"
   ]
  },
  {
   "cell_type": "markdown",
   "id": "547069c8",
   "metadata": {},
   "source": [
    "### 3.  백트래킹\n",
    "- 재귀함수를 설계할 때 고려해야 할 아주 중요한 개념\n",
    "- 해를 찾아가는 도중에 해가 될 것 같지 않은 경로가 있다면 더 이상 가지 않고 back을 함\n",
    "- ex) if(sum >= 20) return; \n",
    "- 모두 검사하지 않고, 중간에 더 진행하더라도 결코 답이 될 수 없는 숫자는 배제시킴.\n",
    "\n"
   ]
  },
  {
   "cell_type": "markdown",
   "id": "7a11bf7a",
   "metadata": {},
   "source": [
    "### 4. 재귀\n"
   ]
  },
  {
   "cell_type": "markdown",
   "id": "e47fe94d",
   "metadata": {},
   "source": [
    "### 5. 순열\n",
    "- 서로 다른 n개의 원소에서 r개의 중복을 허용하지 않고 순서대로 늘어 놓은 수"
   ]
  },
  {
   "cell_type": "markdown",
   "id": "75b26b13",
   "metadata": {},
   "source": [
    "### 6. BFS / DFS\n",
    "- 대표적인 유형으로 길 찾기 문제가 있다. 단순히 길을 찾는 문제라면 BFS/DFS만 이용해도 충분하지만, 주어진 도로에 장애물을 설치하거나, 목적지를 추가하는 등의 추가적인 작업이 필요한 경우에 이를 완전 탐색으로 해결하고 나서, BFS/DFS를 이용하는 방식이다. \n"
   ]
  },
  {
   "cell_type": "markdown",
   "id": "bb5da542",
   "metadata": {},
   "source": [
    "## 4. 예시문제&솔루션<br>\n",
    "***출처***<br>\n",
    "https://programmers.co.kr/learn/courses/30/lessons/42840?language=python3<br><br>\n",
    "***문제 설명***<br><br>\n",
    "수포자는 수학을 포기한 사람의 준말입니다. 수포자 삼인방은 모의고사에 수학 문제를 전부 찍으려 합니다. 수포자는 1번 문제부터 마지막 문제까지 다음과 같이 찍습니다.\n",
    "<br><br>\n",
    "1번 수포자가 찍는 방식: 1, 2, 3, 4, 5, 1, 2, 3, 4, 5, ...<br>\n",
    "2번 수포자가 찍는 방식: 2, 1, 2, 3, 2, 4, 2, 5, 2, 1, 2, 3, 2, 4, 2, 5, ...<br>\n",
    "3번 수포자가 찍는 방식: 3, 3, 1, 1, 2, 2, 4, 4, 5, 5, 3, 3, 1, 1, 2, 2, 4, 4, 5, 5, ...<br>\n",
    "<br>\n",
    "1번 문제부터 마지막 문제까지의 정답이 순서대로 들은 배열 answers가 주어졌을 때, 가장 많은 문제를 맞힌 사람이 누구인지 배열에 담아 return 하도록 solution 함수를 작성해주세요.\n",
    "<br><br><br>\n",
    "***제한 조건***\n",
    "- 시험은 최대 10,000 문제로 구성되어있습니다.\n",
    "- 문제의 정답은 1, 2, 3, 4, 5중 하나입니다.\n",
    "- 가장 높은 점수를 받은 사람이 여럿일 경우, return하는 값을 오름차순 정렬해주세요.\n",
    "<br>\n",
    "\n",
    "입출력 예:"
   ]
  },
  {
   "cell_type": "code",
   "execution_count": 11,
   "id": "9d048d4a",
   "metadata": {},
   "outputs": [
    {
     "name": "stdout",
     "output_type": "stream",
     "text": [
      "           answers     return\n",
      "0  [1, 2, 3, 4, 5]        [1]\n",
      "1  [1, 3, 2, 4, 2]  [1, 2, 3]\n"
     ]
    }
   ],
   "source": [
    "import pandas as pd\n",
    "inandout = pd.DataFrame()\n",
    "inandout[\"answers\"] = [[1,2,3,4,5],[1,3,2,4,2]]\n",
    "inandout[\"return\"] =[[1],[1,2,3]]\n",
    "print(inandout)"
   ]
  },
  {
   "cell_type": "markdown",
   "id": "a4ca1195",
   "metadata": {},
   "source": [
    "- 입출력 예 #1 설명<br>\n",
    "\n",
    "수포자 1은 모든 문제를 맞혔습니다.<br>\n",
    "수포자 2는 모든 문제를 틀렸습니다.<br>\n",
    "수포자 3은 모든 문제를 틀렸습니다.<br>\n",
    "따라서 가장 문제를 많이 맞힌 사람은 수포자 1입니다.\n",
    "\n",
    "- 입출력 예 #2 설명<br>\n",
    "\n",
    "모든 사람이 2문제씩을 맞췄습니다."
   ]
  },
  {
   "cell_type": "code",
   "execution_count": 12,
   "id": "fb32fcca",
   "metadata": {},
   "outputs": [],
   "source": [
    "#문제 형식:\n",
    "def solution(answers):\n",
    "    answer = []\n",
    "    return answer"
   ]
  },
  {
   "cell_type": "code",
   "execution_count": 13,
   "id": "123fdc2b",
   "metadata": {},
   "outputs": [],
   "source": [
    "#완전탐색 적용 솔루션\n",
    "def solution(answers):\n",
    "    answer = []\n",
    "    \n",
    "    #찍는 방식의 패턴\n",
    "    answer_1 = [1,2,3,4,5]\n",
    "    answer_2 = [2,1,2,3,2,4,2,5]\n",
    "    answer_3 = [3,3,1,1,2,2,4,4,5,5]\n",
    "    \n",
    "    #점수판\n",
    "    \n",
    "    scores = [0,0,0]\n",
    "    \n",
    "    #정답확인\n",
    "    for index in range(len(answers)):\n",
    "        if answer_1[index % 5] == answers[index]:\n",
    "            scores[0] += 1\n",
    "        \n",
    "        if answer_2[index % 8] == answers[index]:\n",
    "            scores[1] += 1\n",
    "        \n",
    "        if answer_3[index % 10] == answers[index]:\n",
    "            scores[2] += 1\n",
    "   \n",
    "    #가장 많이 맞힌 사람 찾기\n",
    "    for person, score in enumerate(scores):\n",
    "        if score == max(scores):\n",
    "            answer.append(person+1)\n",
    "            \n",
    "    return answer"
   ]
  },
  {
   "cell_type": "markdown",
   "id": "b371da5b",
   "metadata": {},
   "source": [
    "## 4. 문제 리스트\n",
    "\n",
    "https://www.acmicpc.net/problem/14502\n",
    "<br><br>\n",
    "https://www.acmicpc.net/problem/9663\n",
    "<br><br>\n",
    "https://www.acmicpc.net/problem/15686\n",
    "<br><br>\n",
    "https://www.acmicpc.net/problem/1062\n",
    "<br><br>\n",
    "https://www.acmicpc.net/problem/10819"
   ]
  },
  {
   "cell_type": "markdown",
   "id": "157e3027",
   "metadata": {},
   "source": [
    "출처: https://rebro.kr/59 [Rebro의 코딩 일기장]"
   ]
  }
 ],
 "metadata": {
  "kernelspec": {
   "display_name": "Python 3",
   "language": "python",
   "name": "python3"
  },
  "language_info": {
   "codemirror_mode": {
    "name": "ipython",
    "version": 3
   },
   "file_extension": ".py",
   "mimetype": "text/x-python",
   "name": "python",
   "nbconvert_exporter": "python",
   "pygments_lexer": "ipython3",
   "version": "3.9.5"
  }
 },
 "nbformat": 4,
 "nbformat_minor": 5
}
