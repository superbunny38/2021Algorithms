{
 "cells": [
  {
   "cell_type": "markdown",
   "id": "4fb30dd1",
   "metadata": {},
   "source": [
    "# 동적 계획법 Dynamic Programming\n",
    "<br>\n",
    "이미 했던 연산이 반복되는 결점을 보완하기 위해서 동적 계획법(Dynamic Programing, DP)이 고안되었다. 처음 진행되는 연산은 기록해 두고, 이미 진행했던 연산이라면 다시 연산하는 것이 아니라 기록되어 있는 값을 가져오는 방법을 활용한다. 큰 문제를 작은 문제들로 분할하여 작은 문제들을 이용해 큰 문제들을 해결한다.\n",
    "<br><br>\n",
    "동적 계획법은 그리디 알고리즘에 비해 시간이 오래 걸리지만, 결과적으로는 항상 최적의 해를 구할 수 있다는 이점을 가지고 있다"
   ]
  },
  {
   "cell_type": "markdown",
   "id": "e5db425d",
   "metadata": {},
   "source": [
    "#### 동적 계획법 X 피보나치 함수:"
   ]
  },
  {
   "cell_type": "code",
   "execution_count": 9,
   "id": "e5b632f8",
   "metadata": {},
   "outputs": [],
   "source": [
    "def fibo(n):\n",
    "    if n<=2 :\n",
    "      return 1\n",
    "    else:\n",
    "      return fibo(n-1) + fibo(n-2)"
   ]
  },
  {
   "cell_type": "code",
   "execution_count": 10,
   "id": "36a982b8",
   "metadata": {},
   "outputs": [
    {
     "data": {
      "text/plain": [
       "13"
      ]
     },
     "execution_count": 10,
     "metadata": {},
     "output_type": "execute_result"
    }
   ],
   "source": [
    "fibo(7)"
   ]
  },
  {
   "cell_type": "markdown",
   "id": "f6dacce7",
   "metadata": {},
   "source": [
    "이 함수에선 fibo(4)의 연산이 두 번, fibo(3)의 연산이 세 번 진행된다."
   ]
  },
  {
   "cell_type": "markdown",
   "id": "ba4a752c",
   "metadata": {},
   "source": [
    "#### 동적 계획법 O 피보나치 함수"
   ]
  },
  {
   "cell_type": "code",
   "execution_count": 11,
   "id": "3dc3c41e",
   "metadata": {},
   "outputs": [],
   "source": [
    "import numpy as np\n",
    "fiboData = np.zeros(100)\n",
    "\n",
    "def fibo(n):\n",
    "    \n",
    "  if n <= 2: \n",
    "    return 1\n",
    "\n",
    "  if fiboData[n]==0 :\n",
    "    fiboData[n] = fibo(n-1) + fibo(n-2)\n",
    "    \n",
    "  return fiboData[n];\n"
   ]
  },
  {
   "cell_type": "code",
   "execution_count": 12,
   "id": "923b2848",
   "metadata": {},
   "outputs": [
    {
     "data": {
      "text/plain": [
       "13.0"
      ]
     },
     "execution_count": 12,
     "metadata": {},
     "output_type": "execute_result"
    }
   ],
   "source": [
    "fibo(7)"
   ]
  },
  {
   "cell_type": "markdown",
   "id": "8fb3e10d",
   "metadata": {},
   "source": [
    "위에서 동적 계획법을 활용하지 않은 재귀함수와는 다르게 중복되는 연산이 사라졌다."
   ]
  },
  {
   "cell_type": "markdown",
   "id": "afa3e4ee",
   "metadata": {},
   "source": [
    "### 메모이제이션(Memoization)\n",
    "위의 코드에서는 하위 문제를 해결할 때 그 해결책을 저장해 두고, 똑같은 문제가 발생했을 때 저장되어 있던 해결책을 가지고 간단하게 해결했다. 이렇게 동일한 문제를 반복해야 할 경우, 한 번 계산된 결과를 저장해 두었다가 활용하는 방식으로 중복 계산을 줄이는 것을 <b>메모이제이션(Memoization)</b>이라고 한다."
   ]
  },
  {
   "cell_type": "markdown",
   "id": "9883b37e",
   "metadata": {},
   "source": [
    "### 동적 계획법 사용 조건\n",
    "1) 작은 문제의 반복이 일어나는 경우<br>\n",
    "2) 같은 문제는 구할 때마다 답이 같을 때"
   ]
  },
  {
   "cell_type": "markdown",
   "id": "06ef0641",
   "metadata": {},
   "source": [
    "### 구현 방법"
   ]
  },
  {
   "cell_type": "markdown",
   "id": "ef7eeafa",
   "metadata": {},
   "source": [
    "### 1. Bottom-up: 작은 문제부터 차근차근 구하는 방법"
   ]
  },
  {
   "cell_type": "code",
   "execution_count": 29,
   "id": "4366eb02",
   "metadata": {},
   "outputs": [],
   "source": [
    "fiboData = np.zeros(100)\n",
    "def fibo(n):\n",
    "    fiboData[0] = 0\n",
    "    fiboData[1] = 1\n",
    "    i = 2\n",
    "    while i <= n:\n",
    "        print(f\"{i}번째 피보나치 저장\")\n",
    "        fiboData[i] = fiboData[i-1]+fiboData[i-2]\n",
    "        i += 1\n",
    "    return fiboData[n]"
   ]
  },
  {
   "cell_type": "code",
   "execution_count": 30,
   "id": "8f995972",
   "metadata": {},
   "outputs": [
    {
     "name": "stdout",
     "output_type": "stream",
     "text": [
      "2번째 피보나치 저장\n",
      "3번째 피보나치 저장\n",
      "4번째 피보나치 저장\n",
      "5번째 피보나치 저장\n",
      "6번째 피보나치 저장\n",
      "7번째 피보나치 저장\n"
     ]
    },
    {
     "data": {
      "text/plain": [
       "13.0"
      ]
     },
     "execution_count": 30,
     "metadata": {},
     "output_type": "execute_result"
    }
   ],
   "source": [
    "fibo(7)"
   ]
  },
  {
   "cell_type": "markdown",
   "id": "023b3c2f",
   "metadata": {},
   "source": [
    "### 2. Top-down: 큰 문제부터 시작해서 작은 문제로"
   ]
  },
  {
   "cell_type": "code",
   "execution_count": 25,
   "id": "ff63fb8b",
   "metadata": {},
   "outputs": [],
   "source": [
    "fiboData = np.zeros(100)\n",
    "\n",
    "def fibo(n):\n",
    "    if n <= 2:\n",
    "        return 1\n",
    "    if fiboData[n] == 0:\n",
    "        print(f\"fiboData[{n}] 아직 저장 안됨\")\n",
    "        fiboData[n] = fibo(n-1)+fibo(n-2)\n",
    "    return fiboData[n]"
   ]
  },
  {
   "cell_type": "code",
   "execution_count": 26,
   "id": "0278ec61",
   "metadata": {},
   "outputs": [
    {
     "name": "stdout",
     "output_type": "stream",
     "text": [
      "fiboData[7] 아직 저장 안됨\n",
      "fiboData[6] 아직 저장 안됨\n",
      "fiboData[5] 아직 저장 안됨\n",
      "fiboData[4] 아직 저장 안됨\n",
      "fiboData[3] 아직 저장 안됨\n"
     ]
    },
    {
     "data": {
      "text/plain": [
       "13.0"
      ]
     },
     "execution_count": 26,
     "metadata": {},
     "output_type": "execute_result"
    }
   ],
   "source": [
    "fibo(7)"
   ]
  },
  {
   "cell_type": "markdown",
   "id": "8200b7e0",
   "metadata": {},
   "source": [
    "fibo(7)을 호출하게 되면 fibo(7)부터 작은 수를 호출하며 가장 작은 수까지 도달하게 되는 방식"
   ]
  },
  {
   "cell_type": "markdown",
   "id": "84cd9e7a",
   "metadata": {},
   "source": [
    "### 동적계획법 문제들\n",
    "https://www.acmicpc.net/problem/2839\n",
    "<br><br>\n",
    "https://www.acmicpc.net/problem/1463\n",
    "<br><br>\n",
    "https://www.acmicpc.net/problem/1003\n",
    "<br><br>\n",
    "https://www.acmicpc.net/problem/11726\n",
    "<br><br>\n",
    "https://www.acmicpc.net/problem/2579\n",
    "<br><br>\n",
    "https://www.acmicpc.net/problem/11053\n",
    "<br><br>\n",
    "https://www.acmicpc.net/problem/2748\n",
    "<br><br>\n",
    "https://www.acmicpc.net/problem/1912"
   ]
  }
 ],
 "metadata": {
  "kernelspec": {
   "display_name": "Python 3",
   "language": "python",
   "name": "python3"
  },
  "language_info": {
   "codemirror_mode": {
    "name": "ipython",
    "version": 3
   },
   "file_extension": ".py",
   "mimetype": "text/x-python",
   "name": "python",
   "nbconvert_exporter": "python",
   "pygments_lexer": "ipython3",
   "version": "3.9.5"
  }
 },
 "nbformat": 4,
 "nbformat_minor": 5
}
