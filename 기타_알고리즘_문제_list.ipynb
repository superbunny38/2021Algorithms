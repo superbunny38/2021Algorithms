{
  "nbformat": 4,
  "nbformat_minor": 0,
  "metadata": {
    "colab": {
      "name": "기타 알고리즘 문제 list.ipynb",
      "provenance": [],
      "authorship_tag": "ABX9TyPP8xvh1sjuSqgOGMDQ5Kjh",
      "include_colab_link": true
    },
    "kernelspec": {
      "name": "python3",
      "display_name": "Python 3"
    },
    "language_info": {
      "name": "python"
    }
  },
  "cells": [
    {
      "cell_type": "markdown",
      "metadata": {
        "id": "view-in-github",
        "colab_type": "text"
      },
      "source": [
        "<a href=\"https://colab.research.google.com/github/superbunny38/2021Algorithms/blob/main/%EA%B8%B0%ED%83%80_%EC%95%8C%EA%B3%A0%EB%A6%AC%EC%A6%98_%EB%AC%B8%EC%A0%9C_list.ipynb\" target=\"_parent\"><img src=\"https://colab.research.google.com/assets/colab-badge.svg\" alt=\"Open In Colab\"/></a>"
      ]
    },
    {
      "cell_type": "markdown",
      "source": [
        "출처: 백준"
      ],
      "metadata": {
        "id": "ycu_XbJ0ea9L"
      }
    },
    {
      "cell_type": "markdown",
      "source": [
        "## 그래프 이론:\n",
        "\n",
        "https://www.acmicpc.net/problem/2178\n",
        "\n",
        "https://www.acmicpc.net/problem/2606\n",
        "\n"
      ],
      "metadata": {
        "id": "-26tYgZMedB-"
      }
    },
    {
      "cell_type": "markdown",
      "source": [
        "## 자료구조:\n",
        "https://www.acmicpc.net/problem/9012\n",
        "\n",
        "https://www.acmicpc.net/problem/1158\n",
        "\n",
        "https://www.acmicpc.net/problem/1874"
      ],
      "metadata": {
        "id": "2ExqVhGPe5uO"
      }
    },
    {
      "cell_type": "markdown",
      "source": [
        "## 기타 주제:\n",
        "\n",
        "https://www.acmicpc.net/problem/2751\n",
        "\n",
        "https://www.acmicpc.net/problem/1920\n",
        "\n",
        "https://www.acmicpc.net/problem/2805\n",
        "\n",
        "https://www.acmicpc.net/problem/2003\n",
        "\n",
        "https://www.acmicpc.net/problem/1806\n",
        "\n",
        "https://www.acmicpc.net/problem/11723\n",
        "\n",
        "https://www.acmicpc.net/problem/2098"
      ],
      "metadata": {
        "id": "Rruh_QawfHWD"
      }
    }
  ]
}